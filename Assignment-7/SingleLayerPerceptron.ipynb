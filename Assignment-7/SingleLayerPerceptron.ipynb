{
 "cells": [
  {
   "cell_type": "code",
   "execution_count": 1,
   "id": "05d8b968",
   "metadata": {},
   "outputs": [],
   "source": [
    "import numpy as np"
   ]
  },
  {
   "cell_type": "code",
   "execution_count": 31,
   "id": "acccbc17",
   "metadata": {},
   "outputs": [],
   "source": [
    "def forwardPass(inputs, weight, bias) :\n",
    "    w_sum = np.dot(inputs, weight) + bias\n",
    "    \n",
    "    act = w_sum\n",
    "    return act"
   ]
  },
  {
   "cell_type": "code",
   "execution_count": 32,
   "id": "4f51e8be",
   "metadata": {},
   "outputs": [],
   "source": [
    "W = np.array([[2.99999928]])\n",
    "b = np.array([1.99999976])"
   ]
  },
  {
   "cell_type": "code",
   "execution_count": 33,
   "id": "f84e05b4",
   "metadata": {},
   "outputs": [],
   "source": [
    "inputs = np.array([[7], [8], [9], [10]])"
   ]
  },
  {
   "cell_type": "code",
   "execution_count": 34,
   "id": "38e7a26a",
   "metadata": {},
   "outputs": [],
   "source": [
    "o_out = forwardPass(inputs, W, b)"
   ]
  },
  {
   "cell_type": "code",
   "execution_count": 42,
   "id": "a6cd2226",
   "metadata": {},
   "outputs": [
    {
     "name": "stdout",
     "output_type": "stream",
     "text": [
      "Output Layer Output (Linear)\n",
      "================================\n",
      "[[22.99999472]\n",
      " [25.999994  ]\n",
      " [28.99999328]\n",
      " [31.99999256]] \n",
      "\n"
     ]
    }
   ],
   "source": [
    "print('Output Layer Output (Linear)')\n",
    "print('================================')\n",
    "print(o_out, \"\\n\")"
   ]
  }
 ],
 "metadata": {
  "kernelspec": {
   "display_name": "Python 3 (ipykernel)",
   "language": "python",
   "name": "python3"
  },
  "language_info": {
   "codemirror_mode": {
    "name": "ipython",
    "version": 3
   },
   "file_extension": ".py",
   "mimetype": "text/x-python",
   "name": "python",
   "nbconvert_exporter": "python",
   "pygments_lexer": "ipython3",
   "version": "3.9.12"
  }
 },
 "nbformat": 4,
 "nbformat_minor": 5
}
